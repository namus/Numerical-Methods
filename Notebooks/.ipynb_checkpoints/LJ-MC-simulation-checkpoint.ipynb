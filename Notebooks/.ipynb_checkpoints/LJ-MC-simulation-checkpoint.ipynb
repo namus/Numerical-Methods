{
 "cells": [
  {
   "cell_type": "markdown",
   "metadata": {},
   "source": [
    "## Monte Carlo (MC) simulation of LJ particles in NVT ensemble"
   ]
  },
  {
   "cell_type": "code",
   "execution_count": 1,
   "metadata": {},
   "outputs": [],
   "source": [
    "import matplotlib.pyplot as plt\n",
    "import numpy as np\n",
    "from numba import jit"
   ]
  },
  {
   "cell_type": "markdown",
   "metadata": {},
   "source": [
    "Following function computes/returns potential energy of a single particle ..."
   ]
  },
  {
   "cell_type": "code",
   "execution_count": 2,
   "metadata": {},
   "outputs": [],
   "source": [
    "@jit(nopython=True)\n",
    "def potnrg_part(pos,i,boxl):\n",
    "    '''\n",
    "    Parameters\n",
    "    ----------\n",
    "    pos : array_like\n",
    "        Coordinates of particles : N x ndim\n",
    "    i : integer\n",
    "        Particle number for which energy needs to be computed\n",
    "    Returns\n",
    "    -------\n",
    "    nrg : float\n",
    "    Energy of i-th particle\n",
    "    '''\n",
    "    sigma = 1.0\n",
    "    eps   = 1.0\n",
    "    r_cut = 4.0\n",
    "    E_cut = 4*eps*((sigma/r_cut)**12 - (sigma/r_cut)**6)\n",
    "    nrg = 0.0\n",
    "    for j in range(len(pos)):\n",
    "        if i != j:\n",
    "            dpos = pos[i]-pos[j]\n",
    "            # Perform transformation for minimum image convention (MIC)\n",
    "            for comp in range(len(dpos)):\n",
    "                if np.abs(dpos[comp]) > boxl/2.0:\n",
    "                    dpos[comp] -= np.sign(dpos[comp])*boxl\n",
    "            r = np.linalg.norm(dpos)\n",
    "           \n",
    "            if r <= r_cut:\n",
    "                nrg += 4*eps*((sigma/r)**12 - (sigma/r)**6) - E_cut\n",
    "    return nrg"
   ]
  },
  {
   "cell_type": "markdown",
   "metadata": {},
   "source": [
    "Following function computes/returns total potential energy of the system ..."
   ]
  },
  {
   "cell_type": "code",
   "execution_count": 7,
   "metadata": {},
   "outputs": [],
   "source": [
    "@jit(nopython=True)\n",
    "def potnrg_total(pos,boxl):\n",
    "    '''\n",
    "    Parameters\n",
    "    ----------\n",
    "    pos : array_like\n",
    "        Coordinates of particles : N x ndim\n",
    "\n",
    "    Returns\n",
    "    -------\n",
    "    A tuple of total energy (totnrg) and energy of all particles (allnrg)\n",
    "    '''\n",
    "    allnrg = np.zeros(len(pos))\n",
    "    sigma = 1.0\n",
    "    eps   = 1.0\n",
    "    r_cut = 4.0\n",
    "    E_cut = 4*eps*((sigma/r_cut)**12 - (sigma/r_cut)**6)\n",
    "    totnrg = 0.0\n",
    "    for i in range(len(pos)-1):\n",
    "        for j in range(i+1, len(pos)):\n",
    "            dpos = pos[i]-pos[j]\n",
    "            # Perform transformation for minimum image convention (MIC)\n",
    "            for comp in range(len(dpos)):\n",
    "                if np.abs(dpos[comp]) > boxl/2.0:\n",
    "                    dpos[comp] -= np.sign(dpos[comp])*boxl\n",
    "            r = np.linalg.norm(dpos)\n",
    "\n",
    "            if r <= r_cut:\n",
    "                nrg = 4*eps*((sigma/r)**12 - (sigma/r)**6) - E_cut\n",
    "                totnrg += nrg\n",
    "                allnrg[i] += nrg\n",
    "                allnrg[j] += nrg\n",
    "    return totnrg, allnrg\n"
   ]
  },
  {
   "cell_type": "markdown",
   "metadata": {},
   "source": [
    "# Following function performs the actual MC simulation ..."
   ]
  },
  {
   "cell_type": "code",
   "execution_count": 9,
   "metadata": {},
   "outputs": [],
   "source": [
    "@jit(nopython=True)\n",
    "def MC_NVT(pos, boxl, kT=1.0, steps=1, equib=0, sampl_freq=1):\n",
    "    print(\"Running MC for\", steps, \"steps ...\")\n",
    "    npart = len(pos)\n",
    "    ndim = len(pos[0])\n",
    "    maxl = 1.0 # Adjustable parameter ...\n",
    "    potnrg = potnrg_total(pos,boxl)[0]\n",
    "    accept = 0\n",
    "    \n",
    "    nsample = int((steps - equib)/sampl_freq)\n",
    "    \n",
    "    traj_nrg = np.zeros(nsample)\n",
    "    traj_pos = np.zeros((nsample,npart,ndim))\n",
    "    \n",
    "    isampl = 0\n",
    "    for step in range(steps):\n",
    "        for _ in range(npart):\n",
    "            part = np.random.randint(npart)\n",
    "            oldnrg = potnrg_part(pos,part,boxl)\n",
    "            dpos = np.random.uniform(-maxl,maxl,ndim)\n",
    "            pos[part] += dpos\n",
    "            pos = np.mod(pos,boxl) # Wrap particles due to PBC            \n",
    "            newnrg = potnrg_part(pos,part,boxl)\n",
    "            delnrg = newnrg - oldnrg\n",
    "            if (np.random.uniform(0,1) < np.exp(-delnrg/kT)):\n",
    "                potnrg += delnrg\n",
    "                accept += 1\n",
    "            else:\n",
    "                pos[part] -= dpos\n",
    "                pos = np.mod(pos,boxl)\n",
    "\n",
    "        if ((step >= equib) and (step % sampl_freq == 0)):\n",
    "            print(\"MC step:\", step)\n",
    "            traj_nrg[isampl] = potnrg\n",
    "            traj_pos[isampl] = pos\n",
    "            isampl += 1\n",
    "    \n",
    "    print(\"Acceptance = \", 100*(accept/(steps*npart)))\n",
    "    return traj_pos, traj_nrg"
   ]
  },
  {
   "cell_type": "markdown",
   "metadata": {},
   "source": [
    "The driver program ...."
   ]
  },
  {
   "cell_type": "code",
   "execution_count": 10,
   "metadata": {},
   "outputs": [
    {
     "name": "stdout",
     "output_type": "stream",
     "text": [
      "Density =  2.56\n",
      "Running MC for 10000 steps ...\n",
      "MC step: 1000\n",
      "MC step: 1100\n",
      "MC step: 1200\n",
      "MC step: 1300\n",
      "MC step: 1400\n",
      "MC step: 1500\n",
      "MC step: 1600\n",
      "MC step: 1700\n",
      "MC step: 1800\n",
      "MC step: 1900\n",
      "MC step: 2000\n",
      "MC step: 2100\n",
      "MC step: 2200\n",
      "MC step: 2300\n",
      "MC step: 2400\n",
      "MC step: 2500\n",
      "MC step: 2600\n",
      "MC step: 2700\n",
      "MC step: 2800\n",
      "MC step: 2900\n",
      "MC step: 3000\n",
      "MC step: 3100\n",
      "MC step: 3200\n",
      "MC step: 3300\n",
      "MC step: 3400\n",
      "MC step: 3500\n",
      "MC step: 3600\n",
      "MC step: 3700\n",
      "MC step: 3800\n",
      "MC step: 3900\n",
      "MC step: 4000\n",
      "MC step: 4100\n",
      "MC step: 4200\n",
      "MC step: 4300\n",
      "MC step: 4400\n",
      "MC step: 4500\n",
      "MC step: 4600\n",
      "MC step: 4700\n",
      "MC step: 4800\n",
      "MC step: 4900\n",
      "MC step: 5000\n",
      "MC step: 5100\n",
      "MC step: 5200\n",
      "MC step: 5300\n",
      "MC step: 5400\n",
      "MC step: 5500\n",
      "MC step: 5600\n",
      "MC step: 5700\n",
      "MC step: 5800\n",
      "MC step: 5900\n",
      "MC step: 6000\n",
      "MC step: 6100\n",
      "MC step: 6200\n",
      "MC step: 6300\n",
      "MC step: 6400\n",
      "MC step: 6500\n",
      "MC step: 6600\n",
      "MC step: 6700\n",
      "MC step: 6800\n",
      "MC step: 6900\n",
      "MC step: 7000\n",
      "MC step: 7100\n",
      "MC step: 7200\n",
      "MC step: 7300\n",
      "MC step: 7400\n",
      "MC step: 7500\n",
      "MC step: 7600\n",
      "MC step: 7700\n",
      "MC step: 7800\n",
      "MC step: 7900\n",
      "MC step: 8000\n",
      "MC step: 8100\n",
      "MC step: 8200\n",
      "MC step: 8300\n",
      "MC step: 8400\n",
      "MC step: 8500\n",
      "MC step: 8600\n",
      "MC step: 8700\n",
      "MC step: 8800\n",
      "MC step: 8900\n",
      "MC step: 9000\n",
      "MC step: 9100\n",
      "MC step: 9200\n",
      "MC step: 9300\n",
      "MC step: 9400\n",
      "MC step: 9500\n",
      "MC step: 9600\n",
      "MC step: 9700\n",
      "MC step: 9800\n",
      "MC step: 9900\n",
      "Acceptance =  0.07453125\n"
     ]
    }
   ],
   "source": [
    "#Initialise ...\n",
    "boxl = 5 # Unit of sigma\n",
    "ndim = 2\n",
    "npart = 64 # Number of particles\n",
    "rho = npart/(boxl**ndim)\n",
    "print(\"Density = \", rho)\n",
    "# Initialise with random coordinates\n",
    "pos = np.random.random((npart,ndim))*boxl \n",
    "traj_pos, traj_nrg = MC_NVT(pos, boxl, kT=2.0, steps=10000, equib=1000, sampl_freq=100)"
   ]
  },
  {
   "cell_type": "code",
   "execution_count": 11,
   "metadata": {},
   "outputs": [
    {
     "data": {
      "text/plain": [
       "[<matplotlib.lines.Line2D at 0x125770510>]"
      ]
     },
     "execution_count": 11,
     "metadata": {},
     "output_type": "execute_result"
    },
    {
     "data": {
      "image/png": "[encoded data removed]",
      "text/plain": [
       "<Figure size 432x288 with 1 Axes>"
      ]
     },
     "metadata": {
      "needs_background": "light"
     },
     "output_type": "display_data"
    }
   ],
   "source": [
    "%matplotlib inline\n",
    "\n",
    "# Plot energy versus MC steps ...\n",
    "plt.plot(traj_nrg)"
   ]
  },
  {
   "cell_type": "code",
   "execution_count": 12,
   "metadata": {},
   "outputs": [
    {
     "data": {
      "text/plain": [
       "<matplotlib.collections.PathCollection at 0x1257e93d0>"
      ]
     },
     "execution_count": 12,
     "metadata": {},
     "output_type": "execute_result"
    },
    {
     "data": {
      "image/png": "[encoded data removed]",
      "text/plain": [
       "<Figure size 432x288 with 1 Axes>"
      ]
     },
     "metadata": {
      "needs_background": "light"
     },
     "output_type": "display_data"
    }
   ],
   "source": [
    "# Visualise final frame ...\n",
    "plt.scatter(traj_pos[-1][:,0],traj_pos[-1][:,1])"
   ]
  },
  {
   "cell_type": "code",
   "execution_count": 13,
   "metadata": {},
   "outputs": [],
   "source": [
    "@jit(nopython=True)\n",
    "def RDF(pos,boxl,bw=0.01):\n",
    "    steps = pos.shape[0]\n",
    "    npart = pos.shape[1]\n",
    "    ndim = pos.shape[2]\n",
    "\n",
    "    rho = npart/(boxl**ndim)\n",
    "    \n",
    "    nbins = int(boxl/(2*bw))\n",
    "    rdf = np.zeros(nbins)\n",
    "    rbins = np.linspace(0,boxl/2,nbins) # Create grid/bins for r\n",
    "    \n",
    "    for step in range(steps):\n",
    "        for i in range(npart):\n",
    "            for j in range(npart):\n",
    "                if i != j:\n",
    "                    dpos = (pos[step][i]-pos[step][j])\n",
    "                    # Perform transformation for minimum image convention (MIC)\n",
    "                    for comp in range(len(dpos)):\n",
    "                        if np.abs(dpos[comp]) > boxl/2.0:\n",
    "                            dpos[comp] -= np.sign(dpos[comp])*boxl\n",
    "                    r = np.linalg.norm(dpos)\n",
    "                    if r <= boxl/2:\n",
    "                        ibin = int(r / bw)\n",
    "                        rdf[ibin] += 1\n",
    "    if ndim == 3:\n",
    "        rdf[1:] /= (4 * np.pi * rbins[1:]**2 * bw * rho * steps * npart) # for 3D RDF\n",
    "    elif ndim == 2:\n",
    "        rdf[1:] /= (2 * np.pi * rbins[1:] * bw * rho * steps * npart) # for 2D RDF\n",
    "    else:\n",
    "        print(\"Dimensionality not supported!\")\n",
    "        return None\n",
    "    return rbins[1:], rdf[1:]"
   ]
  },
  {
   "cell_type": "code",
   "execution_count": 14,
   "metadata": {},
   "outputs": [
    {
     "data": {
      "text/plain": [
       "[<matplotlib.lines.Line2D at 0x124fbe490>]"
      ]
     },
     "execution_count": 14,
     "metadata": {},
     "output_type": "execute_result"
    },
    {
     "data": {
      "image/png": "[encoded data removed]",
      "text/plain": [
       "<Figure size 432x288 with 1 Axes>"
      ]
     },
     "metadata": {
      "needs_background": "light"
     },
     "output_type": "display_data"
    }
   ],
   "source": [
    "rbins, rdf = RDF(traj_pos,boxl,bw=0.02)\n",
    "plt.plot(rbins, rdf,'-o')"
   ]
  },
  {
   "cell_type": "code",
   "execution_count": null,
   "metadata": {},
   "outputs": [],
   "source": []
  }
 ],
 "metadata": {
  "kernelspec": {
   "display_name": "Python 3",
   "language": "python",
   "name": "python3"
  },
  "language_info": {
   "codemirror_mode": {
    "name": "ipython",
    "version": 3
   },
   "file_extension": ".py",
   "mimetype": "text/x-python",
   "name": "python",
   "nbconvert_exporter": "python",
   "pygments_lexer": "ipython3",
   "version": "3.8.6"
  }
 },
 "nbformat": 4,
 "nbformat_minor": 4
}
