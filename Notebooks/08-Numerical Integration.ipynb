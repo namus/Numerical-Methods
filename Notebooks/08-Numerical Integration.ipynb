{
 "cells": [
  {
   "cell_type": "code",
   "execution_count": 1,
   "metadata": {},
   "outputs": [],
   "source": [
    "import numpy as np"
   ]
  },
  {
   "cell_type": "code",
   "execution_count": 8,
   "metadata": {},
   "outputs": [],
   "source": [
    "x = np.linspace(0,10,4)"
   ]
  },
  {
   "cell_type": "code",
   "execution_count": 9,
   "metadata": {},
   "outputs": [
    {
     "data": {
      "text/plain": [
       "array([ 0.        ,  3.33333333,  6.66666667, 10.        ])"
      ]
     },
     "execution_count": 9,
     "metadata": {},
     "output_type": "execute_result"
    }
   ],
   "source": [
    "x"
   ]
  },
  {
   "cell_type": "code",
   "execution_count": 11,
   "metadata": {},
   "outputs": [],
   "source": [
    "y = x*x*np.exp(-x)"
   ]
  },
  {
   "cell_type": "code",
   "execution_count": 14,
   "metadata": {},
   "outputs": [
    {
     "data": {
      "text/plain": [
       "1.1380230065706338"
      ]
     },
     "execution_count": 14,
     "metadata": {},
     "output_type": "execute_result"
    }
   ],
   "source": [
    "# Composite Simpson's 1/3rd Rule\n",
    "(h/3)*(y[0] + 4 * y[1] + 2 * y[2] + 4 * y[3] + y[4])"
   ]
  },
  {
   "cell_type": "code",
   "execution_count": 15,
   "metadata": {},
   "outputs": [
    {
     "data": {
      "text/plain": [
       "array([0.        , 0.3963777 , 0.0565615 , 0.00453999])"
      ]
     },
     "execution_count": 15,
     "metadata": {},
     "output_type": "execute_result"
    }
   ],
   "source": [
    "y"
   ]
  },
  {
   "cell_type": "code",
   "execution_count": 16,
   "metadata": {},
   "outputs": [
    {
     "data": {
      "text/plain": [
       "array([0.3963777, 0.0565615])"
      ]
     },
     "execution_count": 16,
     "metadata": {},
     "output_type": "execute_result"
    }
   ],
   "source": [
    "y[1:-1]"
   ]
  },
  {
   "cell_type": "code",
   "execution_count": 7,
   "metadata": {},
   "outputs": [],
   "source": [
    "def func(x):\n",
    "    return x*x*np.exp(-x)"
   ]
  },
  {
   "cell_type": "code",
   "execution_count": 17,
   "metadata": {},
   "outputs": [],
   "source": [
    "def trapez(f, a, b, n):\n",
    "    h = (b - a)/n\n",
    "    x = np.linspace(a,b,n)\n",
    "    y = func(x)\n",
    "    return (h/2)*(y[0] + 2*y[1:-1].sum() + y[-1])"
   ]
  },
  {
   "cell_type": "code",
   "execution_count": 26,
   "metadata": {},
   "outputs": [
    {
     "data": {
      "text/plain": [
       "-0.21015731176537367"
      ]
     },
     "execution_count": 26,
     "metadata": {},
     "output_type": "execute_result"
    }
   ],
   "source": [
    "trapez(func, 0, 10, 10) - 1.99446"
   ]
  },
  {
   "cell_type": "code",
   "execution_count": 27,
   "metadata": {},
   "outputs": [
    {
     "data": {
      "text/plain": [
       "-0.10039560111342238"
      ]
     },
     "execution_count": 27,
     "metadata": {},
     "output_type": "execute_result"
    }
   ],
   "source": [
    "trapez(func, 0, 10, 20) - 1.99446"
   ]
  },
  {
   "cell_type": "code",
   "execution_count": 29,
   "metadata": {},
   "outputs": [
    {
     "data": {
      "text/plain": [
       "0.477716431896061"
      ]
     },
     "execution_count": 29,
     "metadata": {},
     "output_type": "execute_result"
    }
   ],
   "source": [
    "(trapez(func, 0, 10, 20) - 1.99446) / (trapez(func, 0, 10, 10) - 1.99446)"
   ]
  },
  {
   "cell_type": "code",
   "execution_count": 50,
   "metadata": {},
   "outputs": [],
   "source": [
    "def simps3(f, a, b, n):\n",
    "    h = (b - a)/n\n",
    "    x = np.linspace(a,b,n)\n",
    "    y = func(x)\n",
    "    return (h/3)*(y[0] + y[1::2].sum()*4 + y[2:-1:2].sum()*2 + y[-1])"
   ]
  },
  {
   "cell_type": "code",
   "execution_count": 32,
   "metadata": {},
   "outputs": [],
   "source": [
    "x = np.linspace(1,11,11)"
   ]
  },
  {
   "cell_type": "code",
   "execution_count": 33,
   "metadata": {},
   "outputs": [
    {
     "data": {
      "text/plain": [
       "array([ 1.,  2.,  3.,  4.,  5.,  6.,  7.,  8.,  9., 10., 11.])"
      ]
     },
     "execution_count": 33,
     "metadata": {},
     "output_type": "execute_result"
    }
   ],
   "source": [
    "x"
   ]
  },
  {
   "cell_type": "code",
   "execution_count": 36,
   "metadata": {},
   "outputs": [
    {
     "data": {
      "text/plain": [
       "array([ 2.,  4.,  6.,  8., 10.])"
      ]
     },
     "execution_count": 36,
     "metadata": {},
     "output_type": "execute_result"
    }
   ],
   "source": [
    "#x[start:stop:step]\n",
    "x[1::2]"
   ]
  },
  {
   "cell_type": "code",
   "execution_count": 39,
   "metadata": {},
   "outputs": [
    {
     "data": {
      "text/plain": [
       "array([3., 5., 7., 9.])"
      ]
     },
     "execution_count": 39,
     "metadata": {},
     "output_type": "execute_result"
    }
   ],
   "source": [
    "x[2:-1:2]"
   ]
  },
  {
   "cell_type": "code",
   "execution_count": 45,
   "metadata": {},
   "outputs": [
    {
     "data": {
      "text/plain": [
       "-0.18859074536125586"
      ]
     },
     "execution_count": 45,
     "metadata": {},
     "output_type": "execute_result"
    }
   ],
   "source": [
    "trapez(func, 0, 10, 11) - 1.99446"
   ]
  },
  {
   "cell_type": "code",
   "execution_count": 46,
   "metadata": {},
   "outputs": [
    {
     "data": {
      "text/plain": [
       "-0.16079556242111193"
      ]
     },
     "execution_count": 46,
     "metadata": {},
     "output_type": "execute_result"
    }
   ],
   "source": [
    "simps3(func, 0, 10, 11) - 1.99446"
   ]
  },
  {
   "cell_type": "code",
   "execution_count": 47,
   "metadata": {},
   "outputs": [
    {
     "data": {
      "text/plain": [
       "1.7257161798268406"
      ]
     },
     "execution_count": 47,
     "metadata": {},
     "output_type": "execute_result"
    }
   ],
   "source": [
    "(simps3(func, 0, 10, 11) - 1.99446) / (simps3(func, 0, 10, 21) - 1.99446)"
   ]
  },
  {
   "cell_type": "code",
   "execution_count": 51,
   "metadata": {},
   "outputs": [
    {
     "data": {
      "text/plain": [
       "1.98992992656734"
      ]
     },
     "execution_count": 51,
     "metadata": {},
     "output_type": "execute_result"
    }
   ],
   "source": [
    "(simps3(func, 0, 10, 101) - 1.99446) / (simps3(func, 0, 10, 201) - 1.99446)"
   ]
  },
  {
   "cell_type": "code",
   "execution_count": 60,
   "metadata": {},
   "outputs": [],
   "source": [
    "# Generate interpolating polynomial using Lagrangian polynomial\n",
    "x = np.linspace(0,10,5)"
   ]
  },
  {
   "cell_type": "code",
   "execution_count": 61,
   "metadata": {},
   "outputs": [],
   "source": [
    "y = np.random.random(5)"
   ]
  },
  {
   "cell_type": "code",
   "execution_count": 54,
   "metadata": {},
   "outputs": [
    {
     "data": {
      "text/plain": [
       "array([0.8606087 , 0.71910688, 0.28611457])"
      ]
     },
     "execution_count": 54,
     "metadata": {},
     "output_type": "execute_result"
    }
   ],
   "source": [
    "y"
   ]
  },
  {
   "cell_type": "code",
   "execution_count": 55,
   "metadata": {},
   "outputs": [
    {
     "data": {
      "text/plain": [
       "array([ 0.,  5., 10.])"
      ]
     },
     "execution_count": 55,
     "metadata": {},
     "output_type": "execute_result"
    }
   ],
   "source": [
    "x"
   ]
  },
  {
   "cell_type": "code",
   "execution_count": 56,
   "metadata": {},
   "outputs": [],
   "source": [
    "import matplotlib.pyplot as plt"
   ]
  },
  {
   "cell_type": "code",
   "execution_count": 62,
   "metadata": {},
   "outputs": [
    {
     "data": {
      "text/plain": [
       "[<matplotlib.lines.Line2D at 0x10dbf1940>]"
      ]
     },
     "execution_count": 62,
     "metadata": {},
     "output_type": "execute_result"
    },
    {
     "data": {
      "image/png": "[encoded data removed]",
      "text/plain": [
       "<Figure size 432x288 with 1 Axes>"
      ]
     },
     "metadata": {
      "needs_background": "light"
     },
     "output_type": "display_data"
    }
   ],
   "source": [
    "plt.plot(x, y, 'o')"
   ]
  },
  {
   "cell_type": "code",
   "execution_count": 63,
   "metadata": {},
   "outputs": [],
   "source": [
    "from numpy import poly1d"
   ]
  },
  {
   "cell_type": "code",
   "execution_count": 64,
   "metadata": {},
   "outputs": [],
   "source": [
    "p = poly1d([3,4,5])"
   ]
  },
  {
   "cell_type": "code",
   "execution_count": 66,
   "metadata": {},
   "outputs": [
    {
     "name": "stdout",
     "output_type": "stream",
     "text": [
      "   2\n",
      "3 x + 4 x + 5\n"
     ]
    }
   ],
   "source": [
    "print(p)"
   ]
  },
  {
   "cell_type": "code",
   "execution_count": 67,
   "metadata": {},
   "outputs": [
    {
     "name": "stdout",
     "output_type": "stream",
     "text": [
      "   4      3      2\n",
      "9 x + 24 x + 46 x + 40 x + 25\n"
     ]
    }
   ],
   "source": [
    "print(p*p)"
   ]
  },
  {
   "cell_type": "code",
   "execution_count": null,
   "metadata": {},
   "outputs": [],
   "source": []
  },
  {
   "cell_type": "code",
   "execution_count": 68,
   "metadata": {},
   "outputs": [],
   "source": [
    "from scipy.integrate import quad"
   ]
  },
  {
   "cell_type": "code",
   "execution_count": 70,
   "metadata": {},
   "outputs": [],
   "source": [
    "def func(x, a):\n",
    "    return x*x*np.exp(-a*x)"
   ]
  },
  {
   "cell_type": "code",
   "execution_count": 74,
   "metadata": {},
   "outputs": [],
   "source": [
    "I = quad(func, 0, 10, args=(1))"
   ]
  },
  {
   "cell_type": "code",
   "execution_count": 75,
   "metadata": {},
   "outputs": [
    {
     "data": {
      "text/plain": [
       "(1.994461208568977, 8.43652381214296e-11)"
      ]
     },
     "execution_count": 75,
     "metadata": {},
     "output_type": "execute_result"
    }
   ],
   "source": [
    "I"
   ]
  },
  {
   "cell_type": "code",
   "execution_count": 76,
   "metadata": {},
   "outputs": [],
   "source": [
    "I = quad(func, 0, np.inf, args=(1))"
   ]
  },
  {
   "cell_type": "code",
   "execution_count": 77,
   "metadata": {},
   "outputs": [
    {
     "data": {
      "text/plain": [
       "(2.0, 1.045424186015711e-10)"
      ]
     },
     "execution_count": 77,
     "metadata": {},
     "output_type": "execute_result"
    }
   ],
   "source": [
    "I"
   ]
  },
  {
   "cell_type": "code",
   "execution_count": 78,
   "metadata": {},
   "outputs": [],
   "source": [
    "from scipy.integrate import simps"
   ]
  },
  {
   "cell_type": "code",
   "execution_count": 79,
   "metadata": {},
   "outputs": [
    {
     "name": "stdout",
     "output_type": "stream",
     "text": [
      "Help on function simps in module scipy.integrate._quadrature:\n",
      "\n",
      "simps(y, x=None, dx=1, axis=-1, even='avg')\n",
      "    Integrate y(x) using samples along the given axis and the composite\n",
      "    Simpson's rule. If x is None, spacing of dx is assumed.\n",
      "    \n",
      "    If there are an even number of samples, N, then there are an odd\n",
      "    number of intervals (N-1), but Simpson's rule requires an even number\n",
      "    of intervals. The parameter 'even' controls how this is handled.\n",
      "    \n",
      "    Parameters\n",
      "    ----------\n",
      "    y : array_like\n",
      "        Array to be integrated.\n",
      "    x : array_like, optional\n",
      "        If given, the points at which `y` is sampled.\n",
      "    dx : int, optional\n",
      "        Spacing of integration points along axis of `x`. Only used when\n",
      "        `x` is None. Default is 1.\n",
      "    axis : int, optional\n",
      "        Axis along which to integrate. Default is the last axis.\n",
      "    even : str {'avg', 'first', 'last'}, optional\n",
      "        'avg' : Average two results:1) use the first N-2 intervals with\n",
      "                  a trapezoidal rule on the last interval and 2) use the last\n",
      "                  N-2 intervals with a trapezoidal rule on the first interval.\n",
      "    \n",
      "        'first' : Use Simpson's rule for the first N-2 intervals with\n",
      "                a trapezoidal rule on the last interval.\n",
      "    \n",
      "        'last' : Use Simpson's rule for the last N-2 intervals with a\n",
      "               trapezoidal rule on the first interval.\n",
      "    \n",
      "    See Also\n",
      "    --------\n",
      "    quad: adaptive quadrature using QUADPACK\n",
      "    romberg: adaptive Romberg quadrature\n",
      "    quadrature: adaptive Gaussian quadrature\n",
      "    fixed_quad: fixed-order Gaussian quadrature\n",
      "    dblquad: double integrals\n",
      "    tplquad: triple integrals\n",
      "    romb: integrators for sampled data\n",
      "    cumtrapz: cumulative integration for sampled data\n",
      "    ode: ODE integrators\n",
      "    odeint: ODE integrators\n",
      "    \n",
      "    Notes\n",
      "    -----\n",
      "    For an odd number of samples that are equally spaced the result is\n",
      "    exact if the function is a polynomial of order 3 or less. If\n",
      "    the samples are not equally spaced, then the result is exact only\n",
      "    if the function is a polynomial of order 2 or less.\n",
      "    \n",
      "    Examples\n",
      "    --------\n",
      "    >>> from scipy import integrate\n",
      "    >>> x = np.arange(0, 10)\n",
      "    >>> y = np.arange(0, 10)\n",
      "    \n",
      "    >>> integrate.simps(y, x)\n",
      "    40.5\n",
      "    \n",
      "    >>> y = np.power(x, 3)\n",
      "    >>> integrate.simps(y, x)\n",
      "    1642.5\n",
      "    >>> integrate.quad(lambda x: x**3, 0, 9)[0]\n",
      "    1640.25\n",
      "    \n",
      "    >>> integrate.simps(y, x, even='first')\n",
      "    1644.5\n",
      "\n"
     ]
    }
   ],
   "source": [
    "help(simps)"
   ]
  },
  {
   "cell_type": "code",
   "execution_count": null,
   "metadata": {},
   "outputs": [],
   "source": []
  }
 ],
 "metadata": {
  "kernelspec": {
   "display_name": "Python 3",
   "language": "python",
   "name": "python3"
  },
  "language_info": {
   "codemirror_mode": {
    "name": "ipython",
    "version": 3
   },
   "file_extension": ".py",
   "mimetype": "text/x-python",
   "name": "python",
   "nbconvert_exporter": "python",
   "pygments_lexer": "ipython3",
   "version": "3.8.6"
  }
 },
 "nbformat": 4,
 "nbformat_minor": 4
}
