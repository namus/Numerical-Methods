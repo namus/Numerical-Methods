{
 "cells": [
  {
   "cell_type": "markdown",
   "metadata": {},
   "source": [
    "# Throw darts randomly to get $\\pi$ ..."
   ]
  },
  {
   "cell_type": "code",
   "execution_count": null,
   "metadata": {},
   "outputs": [],
   "source": [
    "import numpy as np\n",
    "import matplotlib.pyplot as plt"
   ]
  },
  {
   "cell_type": "code",
   "execution_count": null,
   "metadata": {},
   "outputs": [],
   "source": [
    "np.random.random((5, 2))"
   ]
  },
  {
   "cell_type": "code",
   "execution_count": null,
   "metadata": {},
   "outputs": [],
   "source": [
    "darts = np.random.random((100,2))"
   ]
  },
  {
   "cell_type": "code",
   "execution_count": null,
   "metadata": {},
   "outputs": [],
   "source": [
    "fig = plt.figure(figsize=(4,4))\n",
    "ax = fig.gca()\n",
    "ax.set_xlim([0,1])\n",
    "ax.set_ylim([0,1])\n",
    "circle = plt.Circle((0, 0), 1.0, color='b', fill=False)\n",
    "ax.add_artist(circle)\n",
    "plt.scatter(darts[:,0],darts[:,1],s=10,color='r')"
   ]
  },
  {
   "cell_type": "code",
   "execution_count": null,
   "metadata": {},
   "outputs": [],
   "source": [
    "NSamples = 100000\n",
    "darts = np.random.random((NSamples,2))\n",
    "\n",
    "pi = []\n",
    "\n",
    "inside  = 0\n",
    "count = 0\n",
    "\n",
    "for dart in darts:\n",
    "    count += 1\n",
    "    if np.linalg.norm(dart) < 1:\n",
    "        inside += 1\n",
    "    pi.append(4*(inside/count))"
   ]
  },
  {
   "cell_type": "code",
   "execution_count": null,
   "metadata": {},
   "outputs": [],
   "source": [
    "pi[-1]"
   ]
  },
  {
   "cell_type": "code",
   "execution_count": null,
   "metadata": {},
   "outputs": [],
   "source": [
    "import math\n",
    "math.pi"
   ]
  },
  {
   "cell_type": "code",
   "execution_count": null,
   "metadata": {},
   "outputs": [],
   "source": [
    "plt.plot(pi[1000:])"
   ]
  },
  {
   "cell_type": "markdown",
   "metadata": {},
   "source": [
    "# Integration by random sampling ...\n",
    "\n",
    "$$f(x) = x$$\n",
    "$$\\int_0^2 f(x) dx = 2$$"
   ]
  },
  {
   "cell_type": "code",
   "execution_count": null,
   "metadata": {},
   "outputs": [],
   "source": [
    "avfx = 0\n",
    "NSample = 100000\n",
    "xmax = 2\n",
    "xmin = 0\n",
    "for i in range(NSample):\n",
    "    x = 2*np.random.random()\n",
    "    avfx += x # f(x)\n",
    "print(f\"Result = {(xmax - xmin) * avfx/NSample}\")"
   ]
  },
  {
   "cell_type": "markdown",
   "metadata": {},
   "source": [
    "# Monte Carlo sampling (Importance Sampling) using Metropolis algorithm ...\n",
    "\n",
    "$$V(x) = \\frac{1}{2} k x^2$$\n",
    "\n",
    "$$<V> = \\frac{\\int_{-\\infty}^{\\infty} V(x) exp(-\\beta V(x)) dx}{Q} = \\frac{\\int_{-\\infty}^{\\infty} V(x) exp(-\\beta V(x)) dx}{\\int_{-\\infty}^{\\infty} exp(-\\beta V(x)) dx} = 1/2\\beta = \\frac{1}{2} k_B T$$ "
   ]
  },
  {
   "cell_type": "code",
   "execution_count": null,
   "metadata": {},
   "outputs": [],
   "source": [
    "def V(x, k=1):\n",
    "    return 0.5*k*x**2"
   ]
  },
  {
   "cell_type": "code",
   "execution_count": null,
   "metadata": {},
   "outputs": [],
   "source": [
    "NSteps = 100\n",
    "MAXL = 1\n",
    "BETA = 1\n",
    "coord = np.zeros(NSteps+1)\n",
    "nrg = np.zeros(NSteps+1)"
   ]
  },
  {
   "cell_type": "code",
   "execution_count": null,
   "metadata": {},
   "outputs": [],
   "source": [
    "# x0 = 10\n",
    "coord[0] = 10\n",
    "nrg[0] = V(coord[0])\n",
    "xold = coord[0]\n",
    "nrgold = nrg[0]"
   ]
  },
  {
   "cell_type": "code",
   "execution_count": null,
   "metadata": {},
   "outputs": [],
   "source": [
    "# Metropolis Monte Carlo\n",
    "for step in range(NSteps):\n",
    "    # Attempt a trial move\n",
    "    #dx = MAXL * 2*np.random.random() - 1\n",
    "    dx = np.random.uniform(-MAXL, MAXL)\n",
    "    xnew = xold + dx\n",
    "    nrgnew = V(xnew)\n",
    "    dE = nrgnew - nrgold\n",
    "    prob = np.exp(-BETA*dE)\n",
    "    # Select the trial with probability \"prob\"\n",
    "    if np.random.random() < prob:\n",
    "        xold = xnew\n",
    "        nrgold = nrgnew\n",
    "    #else:\n",
    "        # STAY BACK !!!\n",
    "    coord[step+1] = xold\n",
    "    nrg[step+1] = nrgold"
   ]
  },
  {
   "cell_type": "code",
   "execution_count": null,
   "metadata": {},
   "outputs": [],
   "source": [
    "# Position with MC steps\n",
    "\n",
    "plt.plot(coord,'-o')"
   ]
  },
  {
   "cell_type": "code",
   "execution_count": null,
   "metadata": {},
   "outputs": [],
   "source": [
    "# Potential energy with MC steps\n",
    "\n",
    "plt.plot(nrg, 'o-')"
   ]
  },
  {
   "cell_type": "code",
   "execution_count": null,
   "metadata": {},
   "outputs": [],
   "source": [
    "nrg.mean()"
   ]
  },
  {
   "cell_type": "code",
   "execution_count": null,
   "metadata": {},
   "outputs": [],
   "source": [
    "plt.plot(nrg)"
   ]
  },
  {
   "cell_type": "code",
   "execution_count": null,
   "metadata": {},
   "outputs": [],
   "source": [
    "# Skipping first 20 frames from average energy ...\n",
    "nrg[20:].mean()"
   ]
  },
  {
   "cell_type": "markdown",
   "metadata": {},
   "source": [
    "# Probability distribution / Histogram\n",
    "\n",
    "$$P(x) = \\frac{exp(-\\beta V(x))}{Q} = \\frac{exp(-\\beta (k/2) x^2)}{Q} = \\frac{exp(- x^2 /2)}{\\sqrt(2 \\pi)}  $$ "
   ]
  },
  {
   "cell_type": "code",
   "execution_count": null,
   "metadata": {},
   "outputs": [],
   "source": [
    "x = np.linspace(-4,4,100)\n",
    "px = np.exp(-x**2 / 2)/np.sqrt(2*np.pi)\n",
    "# Notice that I am using a smaller part of the trajectory to compute histogram\n",
    "# to show that poor statistics can lead to bad match ... increase size to see convergence ...\n",
    "#plt.hist(coord[100:1000], bins=100, density=True, label='Simulated')\n",
    "plt.hist(coord, bins=100, density=True, label='Simulated')\n",
    "plt.plot(x, px, 'r-', label=\"Analytical\")\n",
    "plt.legend()\n",
    "plt.show()"
   ]
  },
  {
   "cell_type": "raw",
   "metadata": {},
   "source": [
    "x = np.linspace(-4,4,100)\n",
    "px = np.exp(-x**2 / 2)/np.sqrt(2*np.pi)\n",
    "# Notice that I am using a smaller part of the trajectory to compute histogram\n",
    "# to show that poor statistics can lead to bad match ... increase size to see convergence ...\n",
    "#plt.hist(coord[100:1000], bins=100, density=True, label='Simulated')\n",
    "plt.hist(coord[100:], bins=100, density=True, label='Simulated')\n",
    "plt.plot(x, px, 'r-', label=\"Analytical\")\n",
    "plt.legend()\n",
    "plt.show()"
   ]
  },
  {
   "cell_type": "code",
   "execution_count": null,
   "metadata": {},
   "outputs": [],
   "source": [
    "# Analytically estimated height of the distribution ... P(0)\n",
    "1/(2*np.pi)**0.5"
   ]
  },
  {
   "cell_type": "markdown",
   "metadata": {},
   "source": [
    "# Monte Carlo (MC) for 2D Harmonic Oscillator\n",
    "\n",
    "$$V(x,y) = \\frac{1}{2} (k_x x^2 + k_y y^2) $$"
   ]
  },
  {
   "cell_type": "code",
   "execution_count": null,
   "metadata": {},
   "outputs": [],
   "source": [
    "def V(pos, kx=1, ky=1):\n",
    "    return 0.5*(kx*pos[0]**2 + ky*pos[1]**2)"
   ]
  },
  {
   "cell_type": "code",
   "execution_count": null,
   "metadata": {},
   "outputs": [],
   "source": [
    "MAXL = 1\n",
    "BETA = 1\n",
    "kx = 3\n",
    "ky = 1\n",
    "\n",
    "NSteps = 1000\n",
    "coord = np.zeros((NSteps+1,2))\n",
    "nrg = np.zeros(NSteps+1)\n",
    "\n",
    "# (x0, y0) = (8, 8)\n",
    "coord[0] = [8, 8]\n",
    "nrg[0] = V(coord[0], kx, ky)\n",
    "xold = coord[0]\n",
    "nrgold = nrg[0]"
   ]
  },
  {
   "cell_type": "code",
   "execution_count": null,
   "metadata": {},
   "outputs": [],
   "source": [
    "for step in range(NSteps):\n",
    "    # Attempt a trial move\n",
    "    #dx = MAXL * 2*np.random.random() - 1\n",
    "    dx = np.random.uniform(-MAXL, MAXL, 2)\n",
    "    xnew = xold + dx\n",
    "    nrgnew = V(xnew, kx, ky)\n",
    "    dE = nrgnew - nrgold\n",
    "    prob = np.exp(-BETA*dE)\n",
    "    # Select the trial with probability \"prob\"\n",
    "    if np.random.random() < prob:\n",
    "        xold = xnew\n",
    "        nrgold = nrgnew\n",
    "    #else:\n",
    "        # STAY !!!\n",
    "    coord[step+1] = xold\n",
    "    nrg[step+1] = nrgold"
   ]
  },
  {
   "cell_type": "code",
   "execution_count": null,
   "metadata": {},
   "outputs": [],
   "source": [
    "plt.plot(nrg)"
   ]
  },
  {
   "cell_type": "code",
   "execution_count": null,
   "metadata": {},
   "outputs": [],
   "source": [
    "# Plotting starts here ...\n",
    "fig = plt.figure(figsize=(6,5))\n",
    "left, bottom, width, height = 0.0, 0.0, 1.0, 1.0\n",
    "ax = fig.add_axes([left, bottom, width, height])\n",
    "\n",
    "start, stop, n_values = -10, 10, 1000\n",
    "\n",
    "x_vals = np.linspace(start, stop, n_values)\n",
    "y_vals = np.linspace(start, stop, n_values)\n",
    "X, Y = np.meshgrid(x_vals, y_vals)\n",
    "\n",
    "Z = 0.5*(kx*X**2 + ky*Y**2)\n",
    "\n",
    "cp = plt.contourf(X, Y, Z)\n",
    "plt.colorbar(cp)\n",
    "\n",
    "ax.set_title('Monte Carlo')\n",
    "ax.set_xlabel('x')\n",
    "ax.set_ylabel('y')\n",
    "\n",
    "plt.plot(coord[:,0],coord[:,1],\"ro-\")\n",
    "plt.show()"
   ]
  },
  {
   "cell_type": "code",
   "execution_count": null,
   "metadata": {},
   "outputs": [],
   "source": []
  }
 ],
 "metadata": {
  "kernelspec": {
   "display_name": "Python [conda env:base] *",
   "language": "python",
   "name": "conda-base-py"
  },
  "language_info": {
   "codemirror_mode": {
    "name": "ipython",
    "version": 3
   },
   "file_extension": ".py",
   "mimetype": "text/x-python",
   "name": "python",
   "nbconvert_exporter": "python",
   "pygments_lexer": "ipython3",
   "version": "3.12.2"
  }
 },
 "nbformat": 4,
 "nbformat_minor": 4
}
