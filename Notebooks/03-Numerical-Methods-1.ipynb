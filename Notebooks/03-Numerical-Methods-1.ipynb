{
 "cells": [
  {
   "cell_type": "markdown",
   "metadata": {},
   "source": [
    "# Fixed point iteration method\n",
    "\n",
    "f(x) = x^2 - 2x - 3 = (x - 3)(x + 1)\n",
    "\n",
    "Roots: 3, -1\n",
    "\n",
    "Cast f(x) as:\n",
    "x = g(x)\n",
    "\n",
    "(i) g(x) = (x^2 - 3)/2\n",
    "\n",
    "(ii) g(x) = math.sqrt(2*x + 3)\n",
    "\n",
    "(iii) g(x) = 3 / (x - 2)"
   ]
  },
  {
   "cell_type": "code",
   "execution_count": 34,
   "metadata": {},
   "outputs": [],
   "source": [
    "def g(x):\n",
    "    return (x**2 - 3)/2"
   ]
  },
  {
   "cell_type": "code",
   "execution_count": 35,
   "metadata": {},
   "outputs": [],
   "source": [
    "import math\n",
    "x = 4 # guess"
   ]
  },
  {
   "cell_type": "code",
   "execution_count": 36,
   "metadata": {},
   "outputs": [
    {
     "name": "stdout",
     "output_type": "stream",
     "text": [
      "0 6.5\n",
      "1 19.625\n",
      "2 191.0703125\n",
      "3 18252.432159423828\n",
      "4 166575638.3671846\n",
      "5 1.387372164871753e+16\n",
      "6 9.624007619304673e+31\n",
      "7 4.63107613282172e+63\n",
      "8 1.0723433073995488e+127\n",
      "9 5.7496008446230166e+253\n"
     ]
    },
    {
     "ename": "OverflowError",
     "evalue": "(34, 'Result too large')",
     "output_type": "error",
     "traceback": [
      "\u001b[0;31m---------------------------------------------------------------------------\u001b[0m",
      "\u001b[0;31mOverflowError\u001b[0m                             Traceback (most recent call last)",
      "\u001b[0;32m<ipython-input-36-23c042be6da5>\u001b[0m in \u001b[0;36m<module>\u001b[0;34m\u001b[0m\n\u001b[1;32m      1\u001b[0m \u001b[0;31m# update\u001b[0m\u001b[0;34m\u001b[0m\u001b[0;34m\u001b[0m\u001b[0;34m\u001b[0m\u001b[0m\n\u001b[1;32m      2\u001b[0m \u001b[0;32mfor\u001b[0m \u001b[0mi\u001b[0m \u001b[0;32min\u001b[0m \u001b[0mrange\u001b[0m\u001b[0;34m(\u001b[0m\u001b[0;36m20\u001b[0m\u001b[0;34m)\u001b[0m\u001b[0;34m:\u001b[0m\u001b[0;34m\u001b[0m\u001b[0;34m\u001b[0m\u001b[0m\n\u001b[0;32m----> 3\u001b[0;31m     \u001b[0mx\u001b[0m \u001b[0;34m=\u001b[0m \u001b[0mg\u001b[0m\u001b[0;34m(\u001b[0m\u001b[0mx\u001b[0m\u001b[0;34m)\u001b[0m\u001b[0;34m\u001b[0m\u001b[0;34m\u001b[0m\u001b[0m\n\u001b[0m\u001b[1;32m      4\u001b[0m     \u001b[0mprint\u001b[0m\u001b[0;34m(\u001b[0m\u001b[0mi\u001b[0m\u001b[0;34m,\u001b[0m \u001b[0mx\u001b[0m\u001b[0;34m)\u001b[0m\u001b[0;34m\u001b[0m\u001b[0;34m\u001b[0m\u001b[0m\n",
      "\u001b[0;32m<ipython-input-34-2d1e4e6c5ea3>\u001b[0m in \u001b[0;36mg\u001b[0;34m(x)\u001b[0m\n\u001b[1;32m      1\u001b[0m \u001b[0;32mdef\u001b[0m \u001b[0mg\u001b[0m\u001b[0;34m(\u001b[0m\u001b[0mx\u001b[0m\u001b[0;34m)\u001b[0m\u001b[0;34m:\u001b[0m\u001b[0;34m\u001b[0m\u001b[0;34m\u001b[0m\u001b[0m\n\u001b[0;32m----> 2\u001b[0;31m     \u001b[0;32mreturn\u001b[0m \u001b[0;34m(\u001b[0m\u001b[0mx\u001b[0m\u001b[0;34m**\u001b[0m\u001b[0;36m2\u001b[0m \u001b[0;34m-\u001b[0m \u001b[0;36m3\u001b[0m\u001b[0;34m)\u001b[0m\u001b[0;34m/\u001b[0m\u001b[0;36m2\u001b[0m\u001b[0;34m\u001b[0m\u001b[0;34m\u001b[0m\u001b[0m\n\u001b[0m",
      "\u001b[0;31mOverflowError\u001b[0m: (34, 'Result too large')"
     ]
    }
   ],
   "source": [
    "# update\n",
    "for i in range(20):\n",
    "    x = g(x)\n",
    "    print(i, x)"
   ]
  },
  {
   "cell_type": "markdown",
   "metadata": {},
   "source": [
    "# Our own exponential function ...\n",
    "\n",
    "myexp(x) = 1 + x + x^2 / 2! .... + (x^n / n!) + ....\n",
    "\n",
    "t_n = (x^n / n!) = (x / n) * (x^(n-1) / (n-1)!) = (x/n) * t_(n-1)"
   ]
  },
  {
   "cell_type": "code",
   "execution_count": 10,
   "metadata": {},
   "outputs": [
    {
     "name": "stdout",
     "output_type": "stream",
     "text": [
      "myexp = 148.41315910257657\n",
      "actual = 148.4131591025766\n",
      "error = 2.842170943040401e-14\n"
     ]
    }
   ],
   "source": [
    "import math\n",
    "\n",
    "x = 5\n",
    "myexp = 0\n",
    "\n",
    "for i in range(50):\n",
    "    myexp += (x**i / math.factorial(i))\n",
    "\n",
    "print('myexp =', myexp)\n",
    "print('actual =', math.exp(x))\n",
    "print('error =', abs(myexp - math.exp(x)))"
   ]
  },
  {
   "cell_type": "code",
   "execution_count": 15,
   "metadata": {},
   "outputs": [],
   "source": [
    "def factorial(n):\n",
    "    fact = 1\n",
    "    if n == 0:\n",
    "        return 1\n",
    "    for i in range(1,n+1):\n",
    "        fact *= i\n",
    "    return fact"
   ]
  },
  {
   "cell_type": "code",
   "execution_count": 20,
   "metadata": {},
   "outputs": [
    {
     "name": "stdout",
     "output_type": "stream",
     "text": [
      "Converged after 38 steps: myexp(10) = 22026.46579455032\n",
      "myexp = 22026.46579455032\n",
      "actual = 22026.465794806718\n",
      "error = 2.5639747036620975e-07\n"
     ]
    }
   ],
   "source": [
    "import math\n",
    "\n",
    "x = 10\n",
    "myexp = 0\n",
    "TOL = 1.0e-6\n",
    "MAXSTEPS = 1000\n",
    "\n",
    "# AVOID HARDCODED NUMBERS!\n",
    "i = 0\n",
    "while True:\n",
    "    termi = (x**i / factorial(i))\n",
    "    myexp += termi\n",
    "    i += 1\n",
    "    if abs(termi) < TOL:\n",
    "        print(f\"Converged after {i} steps: myexp({x}) = {myexp}\")\n",
    "        break\n",
    "                \n",
    "print('myexp =', myexp)\n",
    "print('actual =', math.exp(x))\n",
    "print('error =', abs(myexp - math.exp(x)))"
   ]
  },
  {
   "cell_type": "code",
   "execution_count": 24,
   "metadata": {},
   "outputs": [],
   "source": [
    "def myexp(x):\n",
    "    # AVOID HARDCODED NUMBERS!\n",
    "    TOL = 1.0e-6\n",
    "\n",
    "    termi = 1\n",
    "    myexp = 1\n",
    "    i = 0\n",
    "\n",
    "    while True:\n",
    "        i += 1\n",
    "        termi *= (x/i)\n",
    "        myexp += termi\n",
    "\n",
    "        if abs(termi) < TOL:\n",
    "            #print(f\"Converged after {i} steps: myexp({x}) = {myexp}\")\n",
    "            return myexp\n",
    "            break"
   ]
  },
  {
   "cell_type": "code",
   "execution_count": 27,
   "metadata": {},
   "outputs": [
    {
     "data": {
      "text/plain": [
       "22026.465794550324"
      ]
     },
     "execution_count": 27,
     "metadata": {},
     "output_type": "execute_result"
    }
   ],
   "source": [
    "y = myexp(10)\n",
    "y"
   ]
  },
  {
   "cell_type": "markdown",
   "metadata": {},
   "source": [
    "# Newton Raphson method\n",
    "\n",
    "f(x) = x**2 - 2*x - 3\n",
    "\n",
    "f'(x) = 2*x - 2"
   ]
  },
  {
   "cell_type": "code",
   "execution_count": 40,
   "metadata": {},
   "outputs": [],
   "source": [
    "def myf(x):\n",
    "    return x**2 - 2*x - 3\n",
    "\n",
    "def mydfx(x):\n",
    "    return 2*x - 2"
   ]
  },
  {
   "cell_type": "code",
   "execution_count": 55,
   "metadata": {},
   "outputs": [],
   "source": [
    "def newton(f, dfx, x=0):\n",
    "    MAXSTEPS = 50\n",
    "    TOL = 1.0e-6\n",
    "\n",
    "    for i in range(MAXSTEPS):\n",
    "        dx = f(x)/dfx(x)\n",
    "        x -= dx\n",
    "        if (abs(dx) < TOL):\n",
    "            #print(f\"Converged in {i+1} steps! Root = {x}\")\n",
    "            return x"
   ]
  },
  {
   "cell_type": "code",
   "execution_count": 56,
   "metadata": {},
   "outputs": [],
   "source": [
    "myroot = newton(myf, mydfx, x=100)"
   ]
  },
  {
   "cell_type": "code",
   "execution_count": 57,
   "metadata": {},
   "outputs": [
    {
     "data": {
      "text/plain": [
       "3.0"
      ]
     },
     "execution_count": 57,
     "metadata": {},
     "output_type": "execute_result"
    }
   ],
   "source": [
    "myroot"
   ]
  },
  {
   "cell_type": "markdown",
   "metadata": {},
   "source": [
    "# Assignments:\n",
    "\n",
    "1. Implement bisection method\n",
    "2. Implement your own square root function : mysqrt(x)\n",
    "3. Evaluate expression for m and c in linear regression; Plot random data as circle and fit line as line!"
   ]
  },
  {
   "cell_type": "markdown",
   "metadata": {},
   "source": [
    "# Bisection method"
   ]
  },
  {
   "cell_type": "code",
   "execution_count": 47,
   "metadata": {},
   "outputs": [],
   "source": [
    "def fx(x):\n",
    "    return x**2 - 2*x - 3\n",
    "\n",
    "def bisection(g1, g2, fx, tol=1.0e-5):\n",
    "    '''\n",
    "    Implements the bisection method of finding root of a function fx\n",
    "    g1 and g2: Two guesses\n",
    "    fx: Function to find root for\n",
    "    tol: Tolerance\n",
    "    '''\n",
    "    #import sys\n",
    "    \n",
    "    if (fx(g1)*fx(g2) > 0):\n",
    "        #sys.exit('Try different pair of initial guess values!')\n",
    "        raise SystemExit('Try different pair of initial guess values!')   \n",
    "\n",
    "    # Equality comparison between floats might fail!\n",
    "    if fx(g1) == 0:\n",
    "        return g1\n",
    "    if fx(g2) == 0:\n",
    "        return g2\n",
    "    \n",
    "    nsteps = 0\n",
    "    while (abs(g1-g2) > tol):\n",
    "        nsteps += 1\n",
    "        g3 = (g1 + g2)/2\n",
    "        if (abs(fx(g3)) < tol):\n",
    "            return g3\n",
    "        if (fx(g1)*fx(g3) < 0):\n",
    "            g2 = g3\n",
    "        else:\n",
    "            g1 = g3\n",
    "        print(nsteps, abs(g1-g2), fx(g3))\n",
    "    print(f\"Converged after {nsteps} steps!\")    \n",
    "    return g3"
   ]
  },
  {
   "cell_type": "code",
   "execution_count": 48,
   "metadata": {},
   "outputs": [
    {
     "name": "stdout",
     "output_type": "stream",
     "text": [
      "1 50.0 2397.0\n",
      "2 25.0 572.0\n",
      "3 12.5 128.25\n",
      "4 6.25 23.5625\n",
      "5 3.125 0.515625\n",
      "6 1.5625 -3.68359375\n",
      "7 0.78125 -2.1943359375\n",
      "8 0.390625 -0.991943359375\n",
      "9 0.1953125 -0.27630615234375\n",
      "10 0.09765625 0.1101226806640625\n",
      "11 0.048828125 -0.08547592163085938\n",
      "12 0.0244140625 0.011727333068847656\n",
      "13 0.01220703125 -0.037023305892944336\n",
      "14 0.006103515625 -0.012685239315032959\n",
      "15 0.0030517578125 -0.00048826634883880615\n",
      "16 0.00152587890625 0.005617205053567886\n",
      "17 0.000762939453125 0.0025638872757554054\n",
      "18 0.0003814697265625 0.001037664944306016\n",
      "19 0.00019073486328125 0.000274662917945534\n",
      "20 9.5367431640625e-05 -0.00010681081039365381\n",
      "21 4.76837158203125e-05 8.392378003918566e-05\n",
      "22 2.384185791015625e-05 -1.1444083611422684e-05\n",
      "23 1.1920928955078125e-05 3.6239706105334335e-05\n",
      "24 5.9604644775390625e-06 1.2397775719819037e-05\n",
      "Converged after 24 steps!\n"
     ]
    },
    {
     "data": {
      "text/plain": [
       "3.0000030994415283"
      ]
     },
     "execution_count": 48,
     "metadata": {},
     "output_type": "execute_result"
    }
   ],
   "source": [
    "bisection(0, 100, fx, tol=1.0e-5)"
   ]
  },
  {
   "cell_type": "markdown",
   "metadata": {},
   "source": [
    "# Finding square root (two ways!)"
   ]
  },
  {
   "cell_type": "code",
   "execution_count": 64,
   "metadata": {},
   "outputs": [],
   "source": [
    "def sqrt1(x, tol=1.0e-5):    \n",
    "    '''\n",
    "    This function uses binary search to find square root ...\n",
    "    '''\n",
    "    if x < 0:\n",
    "        raise SystemExit('Cannot find square root of a negative number!')\n",
    "\n",
    "    if x == 1:\n",
    "        return 1\n",
    "    elif x < 1:\n",
    "        g1 = x\n",
    "        g2 = 1\n",
    "    else:\n",
    "        g1 = 1\n",
    "        g2 = x\n",
    "        \n",
    "    g3 = 0\n",
    "    \n",
    "    nsteps = 0\n",
    "    while (abs(g1-g2) > tol):\n",
    "        nsteps += 1\n",
    "        g3 = (g1 + g2)/2\n",
    "        if abs(g3**2 - x) < tol:\n",
    "            print(f\"Converged after {nsteps} steps!\")\n",
    "            return g3\n",
    "        elif (g3**2 < x):\n",
    "            g1 = g3\n",
    "        else:\n",
    "            g2 = g3\n",
    "        print(nsteps, abs(g1-g2), g3)\n",
    "    #print(f\"Converged after {nsteps} steps!\")    \n",
    "    #return g3"
   ]
  },
  {
   "cell_type": "code",
   "execution_count": 73,
   "metadata": {},
   "outputs": [
    {
     "name": "stdout",
     "output_type": "stream",
     "text": [
      "1 0.32500000000000007 0.675\n",
      "2 0.1625000000000001 0.5125\n",
      "3 0.08125000000000004 0.59375\n",
      "4 0.04062500000000002 0.553125\n",
      "5 0.020312499999999956 0.5734375\n",
      "6 0.010156249999999978 0.58359375\n",
      "7 0.005078125000000044 0.588671875\n",
      "8 0.002539062500000022 0.5912109375\n",
      "9 0.0012695312500000666 0.59248046875\n",
      "10 0.0006347656249999778 0.591845703125\n",
      "11 0.0003173828125000444 0.5915283203124999\n",
      "12 0.0001586914062500222 0.5916870117187499\n",
      "Converged after 13 steps!\n"
     ]
    },
    {
     "data": {
      "text/plain": [
       "0.5916076660156249"
      ]
     },
     "execution_count": 73,
     "metadata": {},
     "output_type": "execute_result"
    }
   ],
   "source": [
    "sqrt1(0.35)"
   ]
  },
  {
   "cell_type": "code",
   "execution_count": 68,
   "metadata": {},
   "outputs": [
    {
     "data": {
      "text/plain": [
       "1.8708286933869707"
      ]
     },
     "execution_count": 68,
     "metadata": {},
     "output_type": "execute_result"
    }
   ],
   "source": [
    "import math\n",
    "math.sqrt(3.5)"
   ]
  },
  {
   "cell_type": "code",
   "execution_count": 71,
   "metadata": {},
   "outputs": [],
   "source": [
    "# Find x such that x^n = m\n",
    "def sqrt2(x, tol=1.0e-5):    \n",
    "    '''\n",
    "    This function uses Newton-Raphson to find square root ...\n",
    "    '''\n",
    "    if x < 0:\n",
    "        raise SystemExit('Cannot find square root of a negative number!')\n",
    "    \n",
    "    g = x/2\n",
    "    nsteps = 0\n",
    "    \n",
    "    while (abs(g**2 - x) > tol):\n",
    "        nsteps += 1\n",
    "        # g = (g + x/g)/2\n",
    "        g += x/g\n",
    "        g /= 2\n",
    "        print(nsteps, g)\n",
    "        \n",
    "    print(f\"Converged after {nsteps} steps!\")    \n",
    "    return g"
   ]
  },
  {
   "cell_type": "code",
   "execution_count": 72,
   "metadata": {},
   "outputs": [
    {
     "name": "stdout",
     "output_type": "stream",
     "text": [
      "1 1.0875\n",
      "2 0.704669540229885\n",
      "3 0.6006781282554258\n",
      "4 0.5916764572641331\n",
      "5 0.5916079822727416\n",
      "Converged after 5 steps!\n"
     ]
    },
    {
     "data": {
      "text/plain": [
       "0.5916079822727416"
      ]
     },
     "execution_count": 72,
     "metadata": {},
     "output_type": "execute_result"
    }
   ],
   "source": [
    "sqrt2(0.35)"
   ]
  },
  {
   "cell_type": "code",
   "execution_count": 74,
   "metadata": {},
   "outputs": [],
   "source": [
    "import random"
   ]
  },
  {
   "cell_type": "code",
   "execution_count": 77,
   "metadata": {},
   "outputs": [
    {
     "data": {
      "text/plain": [
       "0.6805745597369238"
      ]
     },
     "execution_count": 77,
     "metadata": {},
     "output_type": "execute_result"
    }
   ],
   "source": [
    "random.random()"
   ]
  },
  {
   "cell_type": "code",
   "execution_count": 79,
   "metadata": {},
   "outputs": [
    {
     "data": {
      "text/plain": [
       "0.4652610140908262"
      ]
     },
     "execution_count": 79,
     "metadata": {},
     "output_type": "execute_result"
    }
   ],
   "source": [
    "import numpy as np\n",
    "np.random.random()"
   ]
  },
  {
   "cell_type": "code",
   "execution_count": 80,
   "metadata": {},
   "outputs": [],
   "source": [
    "# Calculate pi as fraction of darts within circle * 4 ...\n",
    "# Plot calculated pi with number of trials ..."
   ]
  },
  {
   "cell_type": "code",
   "execution_count": null,
   "metadata": {},
   "outputs": [],
   "source": []
  }
 ],
 "metadata": {
  "kernelspec": {
   "display_name": "Python 3",
   "language": "python",
   "name": "python3"
  },
  "language_info": {
   "codemirror_mode": {
    "name": "ipython",
    "version": 3
   },
   "file_extension": ".py",
   "mimetype": "text/x-python",
   "name": "python",
   "nbconvert_exporter": "python",
   "pygments_lexer": "ipython3",
   "version": "3.7.6"
  }
 },
 "nbformat": 4,
 "nbformat_minor": 4
}
