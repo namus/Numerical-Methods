{
 "cells": [
  {
   "cell_type": "markdown",
   "metadata": {},
   "source": [
    "# Different types of variable/data in Python\n",
    "\n",
    "In python, variables are dynamically typed!\n",
    "\n",
    "a = 2 : Assigns value 2 to variable \"a\"\n",
    "\n",
    "print(a) : Prints the value stored in variable \"a\"\n",
    "\n",
    "type(a) : Prints the type of the variable \"a\"\n",
    "\n",
    "dir(a) : Shows the methods (functions) and objects associated with object of type(a)\n",
    "\n",
    "help(a.method) : Shows help content (documentation) for the a.method\n",
    "\n",
    "Let's play with some examples ..."
   ]
  },
  {
   "cell_type": "code",
   "execution_count": null,
   "metadata": {},
   "outputs": [],
   "source": [
    "# This is a comment ... any line starting with # is a comment!\n",
    "'''\n",
    "This\n",
    "is a \n",
    "multi-line\n",
    "comment!\n",
    "'''\n",
    "# You may modify any of the content in the cell and press Shift+Enter to run the cell.\n",
    "# Output will come below ...\n",
    "a = 3\n",
    "print(a)\n",
    "type(a)"
   ]
  },
  {
   "cell_type": "code",
   "execution_count": null,
   "metadata": {},
   "outputs": [],
   "source": [
    "a = 2.0 # \"a\" is dynamically typed ... same variable name can store different types of values\n",
    "type(a)"
   ]
  },
  {
   "cell_type": "code",
   "execution_count": null,
   "metadata": {},
   "outputs": [],
   "source": [
    "a = \"2.0\" # Strings can be defined by 'single quotes' or \"double quotes\"\n",
    "print(type(a))\n",
    "print(a)"
   ]
  },
  {
   "cell_type": "markdown",
   "metadata": {},
   "source": [
    "Now let's look at the methods associated with the object \"a\" ... for that matter ANY object of the same type (e.g. str) ..."
   ]
  },
  {
   "cell_type": "code",
   "execution_count": null,
   "metadata": {},
   "outputs": [],
   "source": [
    "dir(a)"
   ]
  },
  {
   "cell_type": "markdown",
   "metadata": {},
   "source": [
    "Ignore all the special method names starting with _ or __, e.g. '__add__'. Look at methods starting from 'captitalize' to 'zfill'. Let's look at the help for the method 'upper'."
   ]
  },
  {
   "cell_type": "code",
   "execution_count": null,
   "metadata": {},
   "outputs": [],
   "source": [
    "help(a.upper) # Even help(str.upper) would have worked! Read the documentation below. Should be self-explanatory!"
   ]
  },
  {
   "cell_type": "code",
   "execution_count": null,
   "metadata": {},
   "outputs": [],
   "source": [
    "a = \"Suman Chakrabarty\"\n",
    "print(a)\n",
    "a = a.upper()\n",
    "print(a)"
   ]
  },
  {
   "cell_type": "code",
   "execution_count": null,
   "metadata": {},
   "outputs": [],
   "source": [
    "a = \"suman chakrabarty\"\n",
    "a.capitalize()"
   ]
  },
  {
   "cell_type": "code",
   "execution_count": null,
   "metadata": {},
   "outputs": [],
   "source": [
    "len(a) # Prints the length of the string\n",
    "a"
   ]
  },
  {
   "cell_type": "code",
   "execution_count": null,
   "metadata": {
    "scrolled": true
   },
   "outputs": [],
   "source": [
    "# Slicing a string (or any iterable, e.g. list)\n",
    "print(a)\n",
    "print(a[0], a[3], a[-1]) # Extract character\n",
    "print(a[0:3], a[:5], a[3:7]) # Extract slices of sub-string"
   ]
  },
  {
   "cell_type": "code",
   "execution_count": null,
   "metadata": {},
   "outputs": [],
   "source": [
    "# String addition (concatenation)\n",
    "a = \"Suman\"\n",
    "b = \"Chakrabarty\"\n",
    "c = a+b\n",
    "print(c)"
   ]
  },
  {
   "cell_type": "code",
   "execution_count": null,
   "metadata": {},
   "outputs": [],
   "source": [
    "c = a + \" \" + b\n",
    "c"
   ]
  },
  {
   "cell_type": "code",
   "execution_count": null,
   "metadata": {},
   "outputs": [],
   "source": [
    "a*10 # Strings can be even multiplied!"
   ]
  },
  {
   "cell_type": "code",
   "execution_count": null,
   "metadata": {},
   "outputs": [],
   "source": [
    "help(a.join)"
   ]
  },
  {
   "cell_type": "code",
   "execution_count": null,
   "metadata": {},
   "outputs": [],
   "source": [
    "# Sorting a list ...\n",
    "fruits = ['Banana','Apple','Mango','Papaya'] \n",
    "print(\"Before sorting:\", fruits)\n",
    "fruits.sort()\n",
    "print(\"After sorting:\", fruits)"
   ]
  },
  {
   "cell_type": "code",
   "execution_count": null,
   "metadata": {},
   "outputs": [],
   "source": [
    "# Joining a list of strings ... \n",
    "merged = ','.join(fruits)\n",
    "print(type(merged), merged)"
   ]
  },
  {
   "cell_type": "markdown",
   "metadata": {},
   "source": [
    "# Looping over iterables (string, list etc)\n",
    "\n",
    "\n",
    "## IMPORTANT: NOTE THE INDENTATION FOR EACH LOGICAL BLOCK. IT IS MANDATORY IN PYTHON!\n",
    "\n",
    "You may loop over (i) the index, OR (ii) the items ...\n",
    "\n",
    "Looping over index:"
   ]
  },
  {
   "cell_type": "code",
   "execution_count": null,
   "metadata": {},
   "outputs": [],
   "source": [
    "print(a)\n",
    "print(\"Outside\")\n",
    "for i in range(5):\n",
    "    print(i, a[i])\n",
    "    print(\"Inside\")\n",
    "print(\"Outside\")"
   ]
  },
  {
   "cell_type": "code",
   "execution_count": null,
   "metadata": {},
   "outputs": [],
   "source": [
    "a = \"Suman Chakrabarty\"\n",
    "for i in range(len(a)):\n",
    "    print(type(i), i, type(a[i]), a[i])"
   ]
  },
  {
   "cell_type": "markdown",
   "metadata": {},
   "source": [
    "Looping over items:"
   ]
  },
  {
   "cell_type": "code",
   "execution_count": null,
   "metadata": {},
   "outputs": [],
   "source": [
    "print(a)\n",
    "for i in a:\n",
    "    print(type(i), i)"
   ]
  },
  {
   "cell_type": "code",
   "execution_count": null,
   "metadata": {},
   "outputs": [],
   "source": [
    "print(type(fruits), fruits)\n",
    "for fruit in fruits:\n",
    "    print(type(fruit), fruit)"
   ]
  },
  {
   "cell_type": "markdown",
   "metadata": {},
   "source": [
    "# Conditionals : if, then, else"
   ]
  },
  {
   "cell_type": "code",
   "execution_count": null,
   "metadata": {},
   "outputs": [],
   "source": [
    "# First, let's generate a random integer between 1 to 100\n",
    "import random\n",
    "dir(random)"
   ]
  },
  {
   "cell_type": "code",
   "execution_count": null,
   "metadata": {},
   "outputs": [],
   "source": [
    "help(random.randint)"
   ]
  },
  {
   "cell_type": "code",
   "execution_count": null,
   "metadata": {},
   "outputs": [],
   "source": [
    "# Generate a random integer between 1 and 100 (including end points)\n",
    "random.randint(1,100)"
   ]
  },
  {
   "cell_type": "code",
   "execution_count": null,
   "metadata": {},
   "outputs": [],
   "source": [
    "# IMPORTANT: NOTE THE INDENTATION FOR EACH LOGICAL BLOCK. IT IS MANDATORY IN PYTHON!\n",
    "a = random.randint(1,100)\n",
    "if a%2 == 0:  # % is the modulo operator, i.e. returns the remainder a%2 == 0 for even number\n",
    "    print(a,\"is even\")\n",
    "else:\n",
    "    print(a,\"is odd\")"
   ]
  },
  {
   "cell_type": "code",
   "execution_count": null,
   "metadata": {},
   "outputs": [],
   "source": [
    "# Let us count the number of character \"a\" in my name!\n",
    "myname = \"Suman Chakrabarty\"\n",
    "count = 0\n",
    "for char in myname:\n",
    "    if char == 'a':\n",
    "        count += 1 # Equivalent to count = count + 1\n",
    "print(f\"Number of 'a': {count}\")"
   ]
  },
  {
   "cell_type": "code",
   "execution_count": null,
   "metadata": {},
   "outputs": [],
   "source": [
    "#dir(myname)\n",
    "# Find out the job of the function myname.count ..."
   ]
  },
  {
   "cell_type": "raw",
   "metadata": {},
   "source": [
    "Let's introduce another variable type: list\n",
    "\n",
    "mylist = [1, 2, 10, 100] # A list of integers\n",
    "mylist = [\"A\", \"X\", \"Suman\", \"9999\"] # A list of strings\n",
    "\n",
    "Or, even mixture of different types!\n",
    "\n",
    "mylist = [\"Numbers\", 10, 10.0, \"10.0\", [\"A\", \"B\", \"C\"]]\n",
    "\n",
    "Let's play with these and remember slicing and iteration from string type ...\n"
   ]
  },
  {
   "cell_type": "code",
   "execution_count": null,
   "metadata": {},
   "outputs": [],
   "source": [
    "mylist = [\"Numbers\", 10, 10.0, \"10.0\", [\"A\", \"B\", \"C\"]]\n",
    "print(\"len(mylist) = \", len(mylist))\n",
    "print(\"mylist[0] = \", mylist[0])"
   ]
  },
  {
   "cell_type": "code",
   "execution_count": null,
   "metadata": {},
   "outputs": [],
   "source": [
    "for i in mylist:\n",
    "    print(f'{i} has type {type(i)}')"
   ]
  },
  {
   "cell_type": "code",
   "execution_count": null,
   "metadata": {},
   "outputs": [],
   "source": [
    "# If the list items are iterable, they can be sliced as well! Somewhat like multi-dimensional arrays ...\n",
    "print(mylist[0])\n",
    "print(mylist[0][0:4])"
   ]
  },
  {
   "cell_type": "code",
   "execution_count": null,
   "metadata": {},
   "outputs": [],
   "source": [
    "print(mylist[4])\n",
    "print(mylist[4][1])"
   ]
  },
  {
   "cell_type": "code",
   "execution_count": null,
   "metadata": {},
   "outputs": [],
   "source": [
    "# Adding items to list\n",
    "print(mylist)\n",
    "mylist.append(\"New Item\")\n",
    "print(mylist)\n",
    "mylist.append(10000)\n",
    "print(mylist)"
   ]
  },
  {
   "cell_type": "code",
   "execution_count": null,
   "metadata": {},
   "outputs": [],
   "source": [
    "print(mylist[3])\n",
    "mylist[3] + mylist[3] # String addition leads to concatenation"
   ]
  },
  {
   "cell_type": "code",
   "execution_count": null,
   "metadata": {},
   "outputs": [],
   "source": [
    "# Casting string to float\n",
    "float(mylist[3]) + float(mylist[3]) # Converting string '10.0' to number/float 10.0"
   ]
  },
  {
   "cell_type": "markdown",
   "metadata": {},
   "source": [
    "# Basic plotting\n",
    "\n",
    "We'll use matplotlib library for this ...\n"
   ]
  },
  {
   "cell_type": "code",
   "execution_count": null,
   "metadata": {},
   "outputs": [],
   "source": [
    "%matplotlib inline\n",
    "import matplotlib.pyplot as plt"
   ]
  },
  {
   "cell_type": "code",
   "execution_count": null,
   "metadata": {},
   "outputs": [],
   "source": [
    "xaxis = [1,2,3,4]\n",
    "yaxis = [2,5,5,8]\n",
    "\n",
    "plt.title('My First Plot')\n",
    "plt.xlabel('X-axis')\n",
    "plt.ylabel('Y-axis')\n",
    "\n",
    "plt.plot(xaxis, yaxis, 'ro-')"
   ]
  },
  {
   "cell_type": "code",
   "execution_count": null,
   "metadata": {},
   "outputs": [],
   "source": [
    "# Let's create something more meaningful, let's say sin(x) from -2*pi to +2*pi\n",
    "import math\n",
    "print(\"pi = \", math.pi)"
   ]
  },
  {
   "cell_type": "code",
   "execution_count": null,
   "metadata": {},
   "outputs": [],
   "source": [
    "from math import pi\n",
    "print(\"pi = \", pi)"
   ]
  },
  {
   "cell_type": "code",
   "execution_count": null,
   "metadata": {},
   "outputs": [],
   "source": [
    "%matplotlib inline\n",
    "import matplotlib.pyplot as plt\n",
    "\n",
    "xlist = [] # Initialise an empty list \n",
    "ylist = [] # Initialise an empty list \n",
    "\n",
    "npoints = 10\n",
    "dx = (4*pi)/npoints # Generating \"npoints\" points between -2*pi to +2*pi\n",
    "\n",
    "for i in range(npoints+1):\n",
    "    x = -2*pi + i*dx\n",
    "    xlist.append(x)\n",
    "    ylist.append(math.sin(x))\n",
    "    \n",
    "print(\"x values:\", xlist)\n",
    "print(\"y values:\", ylist)"
   ]
  },
  {
   "cell_type": "code",
   "execution_count": null,
   "metadata": {},
   "outputs": [],
   "source": [
    "# Do the plotting\n",
    "plt.title('Sin(x)')\n",
    "plt.xlabel('x')\n",
    "plt.ylabel('Sin(x)')\n",
    "\n",
    "plt.plot(xlist, ylist, 'ro-')"
   ]
  },
  {
   "cell_type": "code",
   "execution_count": null,
   "metadata": {},
   "outputs": [],
   "source": [
    "# Let's make this more efficient by using numpy arrays ...\n",
    "import numpy as np\n",
    "\n",
    "dir(np)"
   ]
  },
  {
   "cell_type": "code",
   "execution_count": null,
   "metadata": {},
   "outputs": [],
   "source": [
    "help(np.linspace)"
   ]
  },
  {
   "cell_type": "code",
   "execution_count": null,
   "metadata": {},
   "outputs": [],
   "source": [
    "x = np.linspace(-2*np.pi, 2*np.pi, 100)\n",
    "x"
   ]
  },
  {
   "cell_type": "code",
   "execution_count": null,
   "metadata": {},
   "outputs": [],
   "source": [
    "y = np.sin(x)\n",
    "y"
   ]
  },
  {
   "cell_type": "code",
   "execution_count": null,
   "metadata": {},
   "outputs": [],
   "source": [
    "plt.plot(x,y)"
   ]
  },
  {
   "cell_type": "code",
   "execution_count": null,
   "metadata": {},
   "outputs": [],
   "source": [
    "# Addition works differently for lists and numpy arrays ...\n",
    "x = [1,2,3]\n",
    "y = [10,20,30]\n",
    "x+y"
   ]
  },
  {
   "cell_type": "code",
   "execution_count": null,
   "metadata": {},
   "outputs": [],
   "source": [
    "arrx = np.array([1,2,3])\n",
    "arry = np.array([10,20,30])\n",
    "print(type(arrx), arrx)"
   ]
  },
  {
   "cell_type": "code",
   "execution_count": null,
   "metadata": {},
   "outputs": [],
   "source": [
    "arrx + arry"
   ]
  },
  {
   "cell_type": "code",
   "execution_count": null,
   "metadata": {},
   "outputs": [],
   "source": [
    "arrx * arry"
   ]
  },
  {
   "cell_type": "code",
   "execution_count": null,
   "metadata": {},
   "outputs": [],
   "source": [
    "arry / arrx"
   ]
  },
  {
   "cell_type": "code",
   "execution_count": null,
   "metadata": {},
   "outputs": [],
   "source": [
    "# More data types to be mentioned later ...\n",
    "# tuple\n",
    "# dictionary"
   ]
  }
 ],
 "metadata": {
  "kernelspec": {
   "display_name": "Python 3",
   "language": "python",
   "name": "python3"
  },
  "language_info": {
   "codemirror_mode": {
    "name": "ipython",
    "version": 3
   },
   "file_extension": ".py",
   "mimetype": "text/x-python",
   "name": "python",
   "nbconvert_exporter": "python",
   "pygments_lexer": "ipython3",
   "version": "3.7.6"
  }
 },
 "nbformat": 4,
 "nbformat_minor": 4
}
