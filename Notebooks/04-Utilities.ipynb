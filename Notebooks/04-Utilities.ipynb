{
 "cells": [
  {
   "cell_type": "code",
   "execution_count": 1,
   "metadata": {},
   "outputs": [],
   "source": [
    "import numpy as np"
   ]
  },
  {
   "cell_type": "code",
   "execution_count": 5,
   "metadata": {},
   "outputs": [
    {
     "name": "stdout",
     "output_type": "stream",
     "text": [
      "CPU times: user 121 µs, sys: 1 µs, total: 122 µs\n",
      "Wall time: 124 µs\n"
     ]
    },
    {
     "data": {
      "text/plain": [
       "5001.160507205544"
      ]
     },
     "execution_count": 5,
     "metadata": {},
     "output_type": "execute_result"
    }
   ],
   "source": [
    "%time np.random.random(10000).sum()"
   ]
  },
  {
   "cell_type": "code",
   "execution_count": 6,
   "metadata": {},
   "outputs": [
    {
     "name": "stdout",
     "output_type": "stream",
     "text": [
      "115 µs ± 7.19 µs per loop (mean ± std. dev. of 7 runs, 10000 loops each)\n"
     ]
    }
   ],
   "source": [
    "%timeit np.random.random(10000).sum()"
   ]
  },
  {
   "cell_type": "code",
   "execution_count": 13,
   "metadata": {},
   "outputs": [],
   "source": [
    "def sum_slow():\n",
    "    x = np.random.random(10000)\n",
    "    total = 0\n",
    "    for item in x:\n",
    "        total += item\n",
    "    return total"
   ]
  },
  {
   "cell_type": "code",
   "execution_count": 15,
   "metadata": {},
   "outputs": [
    {
     "name": "stdout",
     "output_type": "stream",
     "text": [
      "3.23 ms ± 512 µs per loop (mean ± std. dev. of 7 runs, 100 loops each)\n"
     ]
    }
   ],
   "source": [
    "%timeit sum_slow()"
   ]
  },
  {
   "cell_type": "code",
   "execution_count": 16,
   "metadata": {},
   "outputs": [],
   "source": [
    "# Interface Python and Fortran/C/C++\n",
    "# Cython \n",
    "# Numba\n",
    "from numba import jit\n",
    "\n",
    "@jit(nopython=True)\n",
    "def sum_fast():\n",
    "    x = np.random.random(10000)\n",
    "    total = 0\n",
    "    for item in x:\n",
    "        total += item\n",
    "    return total"
   ]
  },
  {
   "cell_type": "code",
   "execution_count": 17,
   "metadata": {},
   "outputs": [
    {
     "name": "stdout",
     "output_type": "stream",
     "text": [
      "The slowest run took 8.27 times longer than the fastest. This could mean that an intermediate result is being cached.\n",
      "177 µs ± 180 µs per loop (mean ± std. dev. of 7 runs, 1 loop each)\n"
     ]
    }
   ],
   "source": [
    "%timeit sum_fast()"
   ]
  },
  {
   "cell_type": "code",
   "execution_count": 18,
   "metadata": {},
   "outputs": [],
   "source": [
    "x = np.arange(100).reshape(10, 10)\n",
    "\n",
    "@jit(nopython=True) # Set \"nopython\" mode for best performance, equivalent to @njit\n",
    "def go_fast(a): # Function is compiled to machine code when called the first time\n",
    "    trace = 0.0\n",
    "    for i in range(a.shape[0]):   # Numba likes loops\n",
    "        trace += np.tanh(a[i, i]) # Numba likes NumPy functions\n",
    "    return a + trace              # Numba likes NumPy broadcasting"
   ]
  },
  {
   "cell_type": "code",
   "execution_count": 19,
   "metadata": {},
   "outputs": [],
   "source": [
    "def go_slow(a): # Function is compiled to machine code when called the first time\n",
    "    trace = 0.0\n",
    "    for i in range(a.shape[0]):   # Numba likes loops\n",
    "        trace += np.tanh(a[i, i]) # Numba likes NumPy functions\n",
    "    return a + trace              # Numba likes NumPy broadcasting"
   ]
  },
  {
   "cell_type": "code",
   "execution_count": 20,
   "metadata": {},
   "outputs": [
    {
     "name": "stdout",
     "output_type": "stream",
     "text": [
      "35.3 µs ± 5.23 µs per loop (mean ± std. dev. of 7 runs, 10000 loops each)\n"
     ]
    }
   ],
   "source": [
    "%timeit go_slow(x)"
   ]
  },
  {
   "cell_type": "code",
   "execution_count": 22,
   "metadata": {},
   "outputs": [
    {
     "name": "stdout",
     "output_type": "stream",
     "text": [
      "1.54 µs ± 122 ns per loop (mean ± std. dev. of 7 runs, 1000000 loops each)\n"
     ]
    }
   ],
   "source": [
    "%timeit go_fast(x)"
   ]
  },
  {
   "cell_type": "markdown",
   "metadata": {},
   "source": [
    "# Histograms ..."
   ]
  },
  {
   "cell_type": "code",
   "execution_count": 23,
   "metadata": {},
   "outputs": [],
   "source": [
    "x = np.random.random(1000)"
   ]
  },
  {
   "cell_type": "code",
   "execution_count": 24,
   "metadata": {},
   "outputs": [
    {
     "data": {
      "text/plain": [
       "(1000,)"
      ]
     },
     "execution_count": 24,
     "metadata": {},
     "output_type": "execute_result"
    }
   ],
   "source": [
    "x.shape"
   ]
  },
  {
   "cell_type": "code",
   "execution_count": 26,
   "metadata": {},
   "outputs": [
    {
     "data": {
      "text/plain": [
       "(array([ 98.,  91., 105.,  90.,  98.,  93.,  95., 103., 112., 115.]),\n",
       " array([2.47952897e-05, 1.00009545e-01, 1.99994295e-01, 2.99979045e-01,\n",
       "        3.99963794e-01, 4.99948544e-01, 5.99933294e-01, 6.99918044e-01,\n",
       "        7.99902793e-01, 8.99887543e-01, 9.99872293e-01]),\n",
       " <BarContainer object of 10 artists>)"
      ]
     },
     "execution_count": 26,
     "metadata": {},
     "output_type": "execute_result"
    },
    {
     "data": {
      "image/png": "[encoded data removed]",
      "text/plain": [
       "<Figure size 432x288 with 1 Axes>"
      ]
     },
     "metadata": {
      "needs_background": "light"
     },
     "output_type": "display_data"
    }
   ],
   "source": [
    "import matplotlib.pyplot as plt\n",
    "plt.hist(x)"
   ]
  },
  {
   "cell_type": "code",
   "execution_count": 30,
   "metadata": {},
   "outputs": [],
   "source": [
    "histo, bins = np.histogram(x, bins=2)"
   ]
  },
  {
   "cell_type": "code",
   "execution_count": 31,
   "metadata": {},
   "outputs": [
    {
     "data": {
      "text/plain": [
       "array([482, 518])"
      ]
     },
     "execution_count": 31,
     "metadata": {},
     "output_type": "execute_result"
    }
   ],
   "source": [
    "histo"
   ]
  },
  {
   "cell_type": "code",
   "execution_count": 32,
   "metadata": {},
   "outputs": [
    {
     "data": {
      "text/plain": [
       "array([2.47952897e-05, 4.99948544e-01, 9.99872293e-01])"
      ]
     },
     "execution_count": 32,
     "metadata": {},
     "output_type": "execute_result"
    }
   ],
   "source": [
    "bins"
   ]
  },
  {
   "cell_type": "code",
   "execution_count": 40,
   "metadata": {},
   "outputs": [
    {
     "data": {
      "text/plain": [
       "<BarContainer object of 2 artists>"
      ]
     },
     "execution_count": 40,
     "metadata": {},
     "output_type": "execute_result"
    },
    {
     "data": {
      "image/png": "[encoded data removed]",
      "text/plain": [
       "<Figure size 432x288 with 1 Axes>"
      ]
     },
     "metadata": {
      "needs_background": "light"
     },
     "output_type": "display_data"
    }
   ],
   "source": [
    "bw=bins[1] - bins[0]\n",
    "plt.bar(bins[0:-1]+bw/2,histo, width = 0.2)"
   ]
  },
  {
   "cell_type": "code",
   "execution_count": 38,
   "metadata": {},
   "outputs": [
    {
     "data": {
      "text/plain": [
       "0.9998722930302769"
      ]
     },
     "execution_count": 38,
     "metadata": {},
     "output_type": "execute_result"
    }
   ],
   "source": [
    "bins[0:-1]+bw/2"
   ]
  },
  {
   "cell_type": "markdown",
   "metadata": {},
   "source": [
    "# Reading from and writing to xyz files ..."
   ]
  },
  {
   "cell_type": "code",
   "execution_count": 1,
   "metadata": {},
   "outputs": [
    {
     "name": "stdout",
     "output_type": "stream",
     "text": [
      "solution.xyz  unknown.xyz\r\n"
     ]
    }
   ],
   "source": [
    "!ls *.xyz"
   ]
  },
  {
   "cell_type": "code",
   "execution_count": 26,
   "metadata": {},
   "outputs": [],
   "source": [
    "import numpy as np\n",
    "def readxyz(filename):\n",
    "    myfile = open(filename, 'r')\n",
    "    lines = myfile.readlines()\n",
    "    natoms = int(lines[0])\n",
    "    atname = []\n",
    "    coord = np.zeros((natoms, 3))\n",
    "    \n",
    "    for i in range(natoms):\n",
    "        cols = lines[2+i].split()\n",
    "        atname.append(cols[0])\n",
    "        coord[i] = [float(i) for i in cols[1:]]\n",
    "\n",
    "    myfile.close()\n",
    "    return natoms, atname, coord"
   ]
  },
  {
   "cell_type": "code",
   "execution_count": 39,
   "metadata": {},
   "outputs": [],
   "source": [
    "def writexyz(pos, atnames, fname):\n",
    "    npart = pos.shape[0]\n",
    "    with open(fname, 'w') as mf:\n",
    "        mf.write(f'{npart}\\n')\n",
    "        mf.write(f'Coordinates of {npart} LJ particles ...\\n')\n",
    "        for i in range(npart):\n",
    "            mf.write(f'{atnames[i]}\\t'+'\\t\\t\\t'.join([str(x) for x in pos[i]])+'\\n')"
   ]
  },
  {
   "cell_type": "code",
   "execution_count": 28,
   "metadata": {},
   "outputs": [],
   "source": [
    "output = readxyz('solution.xyz')"
   ]
  },
  {
   "cell_type": "code",
   "execution_count": 30,
   "metadata": {},
   "outputs": [
    {
     "data": {
      "text/plain": [
       "14"
      ]
     },
     "execution_count": 30,
     "metadata": {},
     "output_type": "execute_result"
    }
   ],
   "source": [
    "output[0]"
   ]
  },
  {
   "cell_type": "code",
   "execution_count": 31,
   "metadata": {},
   "outputs": [
    {
     "data": {
      "text/plain": [
       "['C', 'C', 'H', 'H', 'H', 'C', 'O', 'H', 'H', 'N', 'H', 'H', 'H', 'H']"
      ]
     },
     "execution_count": 31,
     "metadata": {},
     "output_type": "execute_result"
    }
   ],
   "source": [
    "output[1]"
   ]
  },
  {
   "cell_type": "code",
   "execution_count": 32,
   "metadata": {},
   "outputs": [
    {
     "data": {
      "text/plain": [
       "array([[ 5.68040e-01,  1.62529e+00,  3.76000e-03],\n",
       "       [ 1.99154e+00,  1.20004e+00,  3.20300e-01],\n",
       "       [-1.45660e-01,  8.98030e-01,  4.05560e-01],\n",
       "       [ 4.00930e-01,  1.66352e+00, -1.07830e+00],\n",
       "       [ 3.42850e-01,  2.60783e+00,  4.29170e-01],\n",
       "       [ 3.02564e+00,  2.18621e+00, -2.49350e-01],\n",
       "       [ 2.22210e+00, -9.15400e-02, -2.47010e-01],\n",
       "       [ 2.11573e+00,  1.11004e+00,  1.40560e+00],\n",
       "       [ 3.19532e+00, -1.41510e-01, -3.51950e-01],\n",
       "       [ 4.38334e+00,  1.66237e+00, -3.85300e-02],\n",
       "       [ 2.92428e+00,  3.17042e+00,  2.19410e-01],\n",
       "       [ 2.87771e+00,  2.30078e+00, -1.32890e+00],\n",
       "       [ 4.58294e+00,  1.63858e+00,  9.62520e-01],\n",
       "       [ 5.05471e+00,  2.31857e+00, -4.39380e-01]])"
      ]
     },
     "execution_count": 32,
     "metadata": {},
     "output_type": "execute_result"
    }
   ],
   "source": [
    "output[2]"
   ]
  },
  {
   "cell_type": "code",
   "execution_count": 33,
   "metadata": {},
   "outputs": [],
   "source": [
    "natoms, atnames, coords = readxyz('solution.xyz')"
   ]
  },
  {
   "cell_type": "code",
   "execution_count": 36,
   "metadata": {},
   "outputs": [
    {
     "data": {
      "text/plain": [
       "array([[ 5.68040e-01,  1.62529e+00,  3.76000e-03],\n",
       "       [ 1.99154e+00,  1.20004e+00,  3.20300e-01],\n",
       "       [-1.45660e-01,  8.98030e-01,  4.05560e-01],\n",
       "       [ 4.00930e-01,  1.66352e+00, -1.07830e+00],\n",
       "       [ 3.42850e-01,  2.60783e+00,  4.29170e-01],\n",
       "       [ 3.02564e+00,  2.18621e+00, -2.49350e-01],\n",
       "       [ 2.22210e+00, -9.15400e-02, -2.47010e-01],\n",
       "       [ 2.11573e+00,  1.11004e+00,  1.40560e+00],\n",
       "       [ 3.19532e+00, -1.41510e-01, -3.51950e-01],\n",
       "       [ 4.38334e+00,  1.66237e+00, -3.85300e-02],\n",
       "       [ 2.92428e+00,  3.17042e+00,  2.19410e-01],\n",
       "       [ 2.87771e+00,  2.30078e+00, -1.32890e+00],\n",
       "       [ 4.58294e+00,  1.63858e+00,  9.62520e-01],\n",
       "       [ 5.05471e+00,  2.31857e+00, -4.39380e-01]])"
      ]
     },
     "execution_count": 36,
     "metadata": {},
     "output_type": "execute_result"
    }
   ],
   "source": [
    "coords"
   ]
  },
  {
   "cell_type": "code",
   "execution_count": 40,
   "metadata": {},
   "outputs": [],
   "source": [
    "writexyz(coords, atnames, 'test.xyz')"
   ]
  },
  {
   "cell_type": "code",
   "execution_count": 8,
   "metadata": {},
   "outputs": [],
   "source": [
    "filename = 'solution.xyz'\n",
    "myfile = open(filename, 'r')"
   ]
  },
  {
   "cell_type": "code",
   "execution_count": 9,
   "metadata": {},
   "outputs": [],
   "source": [
    "lines = myfile.readlines()"
   ]
  },
  {
   "cell_type": "code",
   "execution_count": 10,
   "metadata": {},
   "outputs": [
    {
     "data": {
      "text/plain": [
       "['14\\n',\n",
       " 'Solution!\\n',\n",
       " 'C \\t  0.56804 \\t  1.62529 \\t 0.00376\\n',\n",
       " 'C \\t  1.99154 \\t  1.20004 \\t 0.3203\\n',\n",
       " 'H \\t  -0.14566 \\t  0.89803 \\t 0.40556\\n',\n",
       " 'H \\t  0.40093 \\t  1.66352 \\t -1.0783\\n',\n",
       " 'H \\t  0.34285 \\t  2.60783 \\t 0.42917\\n',\n",
       " 'C \\t  3.02564 \\t  2.18621 \\t -0.24935\\n',\n",
       " 'O \\t  2.2221 \\t  -0.09154 \\t -0.24701\\n',\n",
       " 'H \\t  2.11573 \\t  1.11004 \\t 1.4056\\n',\n",
       " 'H \\t  3.19532 \\t  -0.14151 \\t -0.35195\\n',\n",
       " 'N \\t  4.38334 \\t  1.66237 \\t -0.03853\\n',\n",
       " 'H \\t  2.92428 \\t  3.17042 \\t 0.21941\\n',\n",
       " 'H \\t  2.87771 \\t  2.30078 \\t -1.3289\\n',\n",
       " 'H \\t  4.58294 \\t  1.63858 \\t 0.96252\\n',\n",
       " 'H \\t  5.05471 \\t  2.31857 \\t -0.43938\\n']"
      ]
     },
     "execution_count": 10,
     "metadata": {},
     "output_type": "execute_result"
    }
   ],
   "source": [
    "lines"
   ]
  },
  {
   "cell_type": "code",
   "execution_count": 13,
   "metadata": {},
   "outputs": [],
   "source": [
    "natoms = int(lines[0])"
   ]
  },
  {
   "cell_type": "code",
   "execution_count": 14,
   "metadata": {},
   "outputs": [
    {
     "data": {
      "text/plain": [
       "14"
      ]
     },
     "execution_count": 14,
     "metadata": {},
     "output_type": "execute_result"
    }
   ],
   "source": [
    "natoms"
   ]
  },
  {
   "cell_type": "code",
   "execution_count": 15,
   "metadata": {},
   "outputs": [
    {
     "data": {
      "text/plain": [
       "'C \\t  0.56804 \\t  1.62529 \\t 0.00376\\n'"
      ]
     },
     "execution_count": 15,
     "metadata": {},
     "output_type": "execute_result"
    }
   ],
   "source": [
    "lines[2]"
   ]
  },
  {
   "cell_type": "code",
   "execution_count": 16,
   "metadata": {},
   "outputs": [
    {
     "data": {
      "text/plain": [
       "['C', '0.56804', '1.62529', '0.00376']"
      ]
     },
     "execution_count": 16,
     "metadata": {},
     "output_type": "execute_result"
    }
   ],
   "source": [
    "lines[2].split()"
   ]
  },
  {
   "cell_type": "code",
   "execution_count": 17,
   "metadata": {},
   "outputs": [],
   "source": [
    "cols = lines[2].split()"
   ]
  },
  {
   "cell_type": "code",
   "execution_count": 18,
   "metadata": {},
   "outputs": [
    {
     "data": {
      "text/plain": [
       "'C'"
      ]
     },
     "execution_count": 18,
     "metadata": {},
     "output_type": "execute_result"
    }
   ],
   "source": [
    "cols[0]"
   ]
  },
  {
   "cell_type": "code",
   "execution_count": 19,
   "metadata": {},
   "outputs": [
    {
     "data": {
      "text/plain": [
       "['0.56804', '1.62529', '0.00376']"
      ]
     },
     "execution_count": 19,
     "metadata": {},
     "output_type": "execute_result"
    }
   ],
   "source": [
    "cols[1:]"
   ]
  },
  {
   "cell_type": "code",
   "execution_count": 21,
   "metadata": {},
   "outputs": [
    {
     "data": {
      "text/plain": [
       "[0.56804, 1.62529, 0.00376]"
      ]
     },
     "execution_count": 21,
     "metadata": {},
     "output_type": "execute_result"
    }
   ],
   "source": [
    "#List comprehension\n",
    "[float(i) for i in cols[1:]]"
   ]
  },
  {
   "cell_type": "code",
   "execution_count": 23,
   "metadata": {},
   "outputs": [
    {
     "data": {
      "text/plain": [
       "array([0.56804, 1.62529, 0.00376])"
      ]
     },
     "execution_count": 23,
     "metadata": {},
     "output_type": "execute_result"
    }
   ],
   "source": [
    "import numpy as np\n",
    "np.array([float(i) for i in cols[1:]])"
   ]
  },
  {
   "cell_type": "code",
   "execution_count": 25,
   "metadata": {},
   "outputs": [],
   "source": [
    "myfile.close()"
   ]
  },
  {
   "cell_type": "code",
   "execution_count": null,
   "metadata": {},
   "outputs": [],
   "source": []
  }
 ],
 "metadata": {
  "kernelspec": {
   "display_name": "Python 3",
   "language": "python",
   "name": "python3"
  },
  "language_info": {
   "codemirror_mode": {
    "name": "ipython",
    "version": 3
   },
   "file_extension": ".py",
   "mimetype": "text/x-python",
   "name": "python",
   "nbconvert_exporter": "python",
   "pygments_lexer": "ipython3",
   "version": "3.8.6"
  }
 },
 "nbformat": 4,
 "nbformat_minor": 4
}
